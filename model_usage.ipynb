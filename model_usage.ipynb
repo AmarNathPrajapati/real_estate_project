{
 "cells": [
  {
   "cell_type": "code",
   "execution_count": 1,
   "metadata": {},
   "outputs": [],
   "source": [
    "from joblib import dump,load\n",
    "import numpy as np\n",
    "import pandas as pd\n",
    "import pickle\n",
    "from sklearn.pipeline import Pipeline\n",
    "from sklearn.preprocessing import StandardScaler\n",
    "from sklearn.impute import SimpleImputer\n",
    "\n",
    "housing = pd.read_csv('data.csv')\n",
    "\n",
    "from sklearn.model_selection import train_test_split\n",
    "train_set,test_set = train_test_split(housing,test_size=0.2,random_state=42)\n",
    "\n",
    "# # Stratify Sampling\n",
    "\n",
    "from sklearn.model_selection import StratifiedShuffleSplit\n",
    "split = StratifiedShuffleSplit(n_splits=1,test_size=0.2,random_state=42)\n",
    "for train_index,test_index in split.split(housing,housing['CHAS']):\n",
    "    stratify_train_set = housing.loc[train_index]\n",
    "    stratify_test_set = housing.loc[test_index]\n",
    "\n",
    "housing = stratify_train_set.copy()\n",
    "\n",
    "# # Handling Missing Values\n",
    "from sklearn.impute import SimpleImputer\n",
    "\n",
    "housing = stratify_train_set.drop(\"MEDV\",axis=1)\n",
    "housing_labels = stratify_train_set[\"MEDV\"].copy()\n",
    "\n",
    "\n",
    "# # Creating Pipeline\n",
    "\n",
    "from sklearn.pipeline import Pipeline\n",
    "from sklearn.preprocessing import StandardScaler\n",
    "my_pipeline = Pipeline([\n",
    "    ('imputer',SimpleImputer(strategy='median')),\n",
    "    ('std_scaler',StandardScaler()),\n",
    "])\n",
    "housing_num_tr = my_pipeline.fit_transform(housing)"
   ]
  },
  {
   "cell_type": "code",
   "execution_count": 2,
   "metadata": {},
   "outputs": [
    {
     "data": {
      "text/plain": [
       "array([[3.5780e-02, 2.0000e+01, 3.3300e+00, 0.0000e+00, 4.4290e-01,\n",
       "        7.8200e+00, 6.4500e+01, 4.6947e+00, 5.0000e+00, 2.1600e+02,\n",
       "        1.4900e+01, 3.8731e+02, 3.7600e+00]])"
      ]
     },
     "execution_count": 2,
     "metadata": {},
     "output_type": "execute_result"
    }
   ],
   "source": [
    "model = load('Jaunpur.joblib')\n",
    "arr = np.array([[0.03578,20,3.33,0,0.4429,7.82,64.5,4.6947,5,216,14.9,387.31,3.76]])\n",
    "arr"
   ]
  },
  {
   "cell_type": "code",
   "execution_count": 3,
   "metadata": {},
   "outputs": [
    {
     "name": "stderr",
     "output_type": "stream",
     "text": [
      "C:\\Users\\amarn\\AppData\\Local\\Programs\\Python\\Python311\\Lib\\site-packages\\sklearn\\base.py:439: UserWarning: X does not have valid feature names, but SimpleImputer was fitted with feature names\n",
      "  warnings.warn(\n"
     ]
    },
    {
     "data": {
      "text/plain": [
       "array([[-0.44095418,  0.41419706, -1.16677847, -0.27288841, -0.98657928,\n",
       "         2.16743091, -0.160855  ,  0.4524252 , -0.5429938 , -1.16548275,\n",
       "        -1.68026757,  0.35348708, -1.24974192]])"
      ]
     },
     "execution_count": 3,
     "metadata": {},
     "output_type": "execute_result"
    }
   ],
   "source": [
    "prepared_data = my_pipeline.transform(arr)\n",
    "prepared_data"
   ]
  },
  {
   "cell_type": "code",
   "execution_count": 4,
   "metadata": {},
   "outputs": [
    {
     "data": {
      "text/plain": [
       "array([46.287])"
      ]
     },
     "execution_count": 4,
     "metadata": {},
     "output_type": "execute_result"
    }
   ],
   "source": [
    "model.predict(prepared_data)"
   ]
  },
  {
   "cell_type": "code",
   "execution_count": null,
   "metadata": {},
   "outputs": [],
   "source": []
  }
 ],
 "metadata": {
  "kernelspec": {
   "display_name": "Python 3 (ipykernel)",
   "language": "python",
   "name": "python3"
  },
  "language_info": {
   "codemirror_mode": {
    "name": "ipython",
    "version": 3
   },
   "file_extension": ".py",
   "mimetype": "text/x-python",
   "name": "python",
   "nbconvert_exporter": "python",
   "pygments_lexer": "ipython3",
   "version": "3.11.2"
  },
  "vscode": {
   "interpreter": {
    "hash": "c892ff0f625889444d46f830219fd0b41004ccf52e190641212b7bb105f00590"
   }
  }
 },
 "nbformat": 4,
 "nbformat_minor": 2
}
